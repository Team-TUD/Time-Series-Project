{
 "cells": [
  {
   "cell_type": "markdown",
   "metadata": {
    "collapsed": true,
    "pycharm": {
     "name": "#%% md\n"
    }
   },
   "source": [
    "# The credit fraud dataset - Synthesizing the minority class\n",
    "In this notebook it's presented a practical exercise of how to use the avilable library GANs to synthesize tabular data.\n",
    "For the purpose of this exercise it has been used the Credit Fraud dataset from Kaggle, that you can find here:https: //www.kaggle.com/mlg-ulb/creditcardfraud"
   ]
  },
  {
   "cell_type": "code",
   "execution_count": 1,
   "metadata": {
    "pycharm": {
     "name": "#%%\n"
    }
   },
   "outputs": [],
   "source": [
    "# Note: You can select between running the Notebook on \"CPU\" or \"GPU\"\n",
    "# Click \"Runtime > Change Runtime time\" and set \"GPU\""
   ]
  },
  {
   "cell_type": "code",
   "execution_count": null,
   "metadata": {
    "pycharm": {
     "name": "#%%\n"
    }
   },
   "outputs": [],
   "source": [
    "#Install ydata-synthetic lib\n",
    "#! pip install pip install git+https://github.com/ydataai/ydata-synthetic.git"
   ]
  },
  {
   "cell_type": "code",
   "execution_count": null,
   "metadata": {
    "pycharm": {
     "name": "#%%\n"
    }
   },
   "outputs": [],
   "source": [
    "import importlib\n",
    "import sys  \n",
    "\n",
    "import pandas as pd\n",
    "import numpy as np\n",
    "import sklearn.cluster as cluster\n",
    "import matplotlib.pyplot as plt\n",
    "\n",
    "from ydata_synthetic.synthesizers.regular import VanilllaGAN\n",
    "from ydata_synthetic.preprocessing.regular.credit_fraud import *\n",
    "\n",
    "model = VanilllaGAN"
   ]
  },
  {
   "cell_type": "code",
   "execution_count": 2,
   "metadata": {
    "pycharm": {
     "name": "#%%\n"
    }
   },
   "outputs": [],
   "source": [
    "#Read the original data and have it preprocessed\n",
    "data = pd.read_csv('data/creditcard.csv', index_col=[0])"
   ]
  },
  {
   "cell_type": "code",
   "execution_count": 3,
   "metadata": {},
   "outputs": [
    {
     "name": "stdout",
     "output_type": "stream",
     "text": [
      "Dataset columns: ['V1', 'V2', 'V3', 'V4', 'V5', 'V6', 'V7', 'V8', 'V9', 'V10', 'V11', 'V12', 'V13', 'V14', 'V15', 'V16', 'V17', 'V18', 'V19', 'V20', 'V21', 'V22', 'V23', 'V24', 'V25', 'V26', 'V27', 'V28', 'Amount']\n"
     ]
    }
   ],
   "source": [
    "data_cols = list(data.columns[ data.columns != 'Class' ])\n",
    "label_cols = ['Class']\n",
    "\n",
    "print('Dataset columns: {}'.format(data_cols))\n",
    "sorted_cols = ['V14', 'V4', 'V10', 'V17', 'V12', 'V26', 'Amount', 'V21', 'V8', 'V11', 'V7', 'V28', 'V19', 'V3', 'V22', 'V6', 'V20', 'V27', 'V16', 'V13', 'V25', 'V24', 'V18', 'V2', 'V1', 'V5', 'V15', 'V9', 'V23', 'Class']\n",
    "processed_data = data[ sorted_cols ].copy()"
   ]
  },
  {
   "cell_type": "code",
   "execution_count": 4,
   "metadata": {
    "pycharm": {
     "name": "#%%\n"
    }
   },
   "outputs": [
    {
     "name": "stdout",
     "output_type": "stream",
     "text": [
      "Dataset info: Number of records - 492 Number of varibles - 30\n",
      "   count\n",
      "0    384\n",
      "1    108\n"
     ]
    }
   ],
   "source": [
    "#Before training the GAN do not forget to apply the required data transformations\n",
    "#To ease here we've applied a PowerTransformation\n",
    "data = transformations(data)\n",
    "\n",
    "#For the purpose of this example we will only synthesize the minority class\n",
    "train_data = data.loc[ data['Class']==1 ].copy()\n",
    "\n",
    "print(\"Dataset info: Number of records - {} Number of varibles - {}\".format(train_data.shape[0], train_data.shape[1]))\n",
    "\n",
    "algorithm = cluster.KMeans\n",
    "args, kwds = (), {'n_clusters':2, 'random_state':0}\n",
    "labels = algorithm(*args, **kwds).fit_predict(train_data[ data_cols ])\n",
    "\n",
    "print( pd.DataFrame( [ [np.sum(labels==i)] for i in np.unique(labels) ], columns=['count'], index=np.unique(labels) ) )\n",
    "\n",
    "fraud_w_classes = train_data.copy()\n",
    "fraud_w_classes['Class'] = labels"
   ]
  },
  {
   "cell_type": "markdown",
   "metadata": {
    "pycharm": {
     "name": "#%% md\n"
    }
   },
   "source": [
    "# GAN training\n",
    "\n",
    "Below you can try to train your own generators using the available GANs architectures. You can train it either with labels (created using KMeans) or with no labels at all. \n",
    "\n",
    "Remeber that for this exercise in particular we've decided to synthesize only the minority class from the Credit Fraud dataset."
   ]
  },
  {
   "cell_type": "code",
   "execution_count": 5,
   "metadata": {
    "pycharm": {
     "name": "#%%\n"
    }
   },
   "outputs": [],
   "source": [
    "#Define the GAN and training parameters\n",
    "noise_dim = 32\n",
    "dim = 128\n",
    "batch_size = 128\n",
    "\n",
    "log_step = 100\n",
    "epochs = 200+1\n",
    "learning_rate = 5e-4\n",
    "beta_1 = 0.5\n",
    "beta_2 = 0.9\n",
    "models_dir = './cache'\n",
    "\n",
    "train_sample = fraud_w_classes.copy().reset_index(drop=True)\n",
    "train_sample = pd.get_dummies(train_sample, columns=['Class'], prefix='Class', drop_first=True)\n",
    "label_cols = [ i for i in train_sample.columns if 'Class' in i ]\n",
    "data_cols = [ i for i in train_sample.columns if i not in label_cols ]\n",
    "train_sample[ data_cols ] = train_sample[ data_cols ] / 10 # scale to random noise size, one less thing to learn\n",
    "train_no_label = train_sample[ data_cols ]\n",
    "\n",
    "gan_args = [batch_size, learning_rate, beta_1, beta_2, noise_dim, train_sample.shape[1], dim]\n",
    "train_args = ['', epochs, log_step]"
   ]
  },
  {
   "cell_type": "code",
   "execution_count": 6,
   "metadata": {
    "pycharm": {
     "name": "#%%\n"
    }
   },
   "outputs": [
    {
     "name": "stdout",
     "output_type": "stream",
     "text": [
      "WARNING:tensorflow:From /home/fabiana/.local/lib/python2.7/site-packages/tensorflow/python/ops/init_ops.py:1251: calling __init__ (from tensorflow.python.ops.init_ops) with dtype is deprecated and will be removed in a future version.\n",
      "Instructions for updating:\n",
      "Call initializer instance with the dtype argument instead of passing it to the constructor\n",
      "WARNING:tensorflow:From /home/fabiana/.local/lib/python2.7/site-packages/tensorflow/python/ops/nn_impl.py:180: where (from tensorflow.python.ops.array_ops) is deprecated and will be removed in a future version.\n",
      "Instructions for updating:\n",
      "Use tf.where in 2.0, which has the same broadcast rule as np.where\n",
      "WARNING:tensorflow:Discrepancy between trainable weights and collected trainable weights, did you set `model.trainable` without calling `model.compile` after ?\n",
      "WARNING:tensorflow:Discrepancy between trainable weights and collected trainable weights, did you set `model.trainable` without calling `model.compile` after ?\n",
      "0 [D loss: 0.708469, acc.: 39.06%] [G loss: 0.671636]\n",
      "generated_data\n",
      "1 [D loss: 0.685336, acc.: 50.00%] [G loss: 0.663698]\n",
      "2 [D loss: 0.681000, acc.: 50.00%] [G loss: 0.664978]\n",
      "3 [D loss: 0.674749, acc.: 50.00%] [G loss: 0.690639]\n",
      "4 [D loss: 0.672142, acc.: 50.00%] [G loss: 0.732488]\n",
      "5 [D loss: 0.710015, acc.: 49.61%] [G loss: 0.729122]\n",
      "6 [D loss: 0.742026, acc.: 48.44%] [G loss: 0.713994]\n",
      "7 [D loss: 0.737963, acc.: 47.66%] [G loss: 0.742747]\n",
      "8 [D loss: 0.716681, acc.: 42.97%] [G loss: 0.820718]\n",
      "9 [D loss: 0.688524, acc.: 53.91%] [G loss: 0.922807]\n",
      "10 [D loss: 0.662431, acc.: 67.58%] [G loss: 1.039891]\n",
      "11 [D loss: 0.646946, acc.: 67.97%] [G loss: 1.100324]\n",
      "12 [D loss: 0.636922, acc.: 64.84%] [G loss: 1.111553]\n",
      "13 [D loss: 0.655045, acc.: 66.02%] [G loss: 1.035249]\n",
      "14 [D loss: 0.667516, acc.: 66.02%] [G loss: 0.929927]\n",
      "15 [D loss: 0.670737, acc.: 66.80%] [G loss: 0.889953]\n",
      "16 [D loss: 0.655022, acc.: 73.44%] [G loss: 0.883770]\n",
      "17 [D loss: 0.618495, acc.: 85.94%] [G loss: 0.946550]\n",
      "18 [D loss: 0.591815, acc.: 95.31%] [G loss: 0.952641]\n",
      "19 [D loss: 0.585552, acc.: 98.83%] [G loss: 0.913190]\n",
      "20 [D loss: 0.606528, acc.: 82.03%] [G loss: 0.800505]\n",
      "21 [D loss: 0.638014, acc.: 51.95%] [G loss: 0.689731]\n",
      "22 [D loss: 0.638027, acc.: 50.00%] [G loss: 0.659815]\n",
      "23 [D loss: 0.630316, acc.: 50.00%] [G loss: 0.666318]\n",
      "24 [D loss: 0.610976, acc.: 50.00%] [G loss: 0.703686]\n",
      "25 [D loss: 0.605668, acc.: 52.34%] [G loss: 0.748302]\n",
      "26 [D loss: 0.588761, acc.: 61.33%] [G loss: 0.809833]\n",
      "27 [D loss: 0.575986, acc.: 73.83%] [G loss: 0.883144]\n",
      "28 [D loss: 0.597726, acc.: 67.19%] [G loss: 0.896477]\n",
      "29 [D loss: 0.649179, acc.: 53.91%] [G loss: 0.825624]\n",
      "30 [D loss: 0.693753, acc.: 42.19%] [G loss: 0.836267]\n",
      "31 [D loss: 0.660922, acc.: 48.05%] [G loss: 0.966454]\n",
      "32 [D loss: 0.574163, acc.: 81.64%] [G loss: 1.108478]\n",
      "33 [D loss: 0.536218, acc.: 82.81%] [G loss: 1.133248]\n",
      "34 [D loss: 0.537696, acc.: 80.47%] [G loss: 1.062718]\n",
      "35 [D loss: 0.548568, acc.: 80.47%] [G loss: 0.961893]\n",
      "36 [D loss: 0.579086, acc.: 70.70%] [G loss: 0.884395]\n",
      "37 [D loss: 0.627582, acc.: 48.44%] [G loss: 0.828628]\n",
      "38 [D loss: 0.644453, acc.: 48.05%] [G loss: 0.833274]\n",
      "39 [D loss: 0.645321, acc.: 44.53%] [G loss: 0.865946]\n",
      "40 [D loss: 0.691201, acc.: 41.80%] [G loss: 0.895024]\n",
      "41 [D loss: 0.736770, acc.: 33.20%] [G loss: 0.846645]\n",
      "42 [D loss: 0.759605, acc.: 30.08%] [G loss: 0.811529]\n",
      "43 [D loss: 0.761058, acc.: 35.55%] [G loss: 0.857046]\n",
      "44 [D loss: 0.732291, acc.: 37.11%] [G loss: 0.924935]\n",
      "45 [D loss: 0.742006, acc.: 33.20%] [G loss: 0.947196]\n",
      "46 [D loss: 0.724691, acc.: 35.94%] [G loss: 0.968146]\n",
      "47 [D loss: 0.719892, acc.: 44.92%] [G loss: 1.000131]\n",
      "48 [D loss: 0.685601, acc.: 61.72%] [G loss: 1.009843]\n",
      "49 [D loss: 0.655007, acc.: 67.19%] [G loss: 1.027301]\n",
      "50 [D loss: 0.619129, acc.: 71.09%] [G loss: 1.032230]\n",
      "51 [D loss: 0.598398, acc.: 71.48%] [G loss: 1.020239]\n",
      "52 [D loss: 0.582062, acc.: 75.78%] [G loss: 0.987814]\n",
      "53 [D loss: 0.579864, acc.: 74.22%] [G loss: 0.951383]\n",
      "54 [D loss: 0.585225, acc.: 72.66%] [G loss: 0.896311]\n",
      "55 [D loss: 0.583960, acc.: 69.92%] [G loss: 0.863562]\n",
      "56 [D loss: 0.603241, acc.: 60.94%] [G loss: 0.838634]\n",
      "57 [D loss: 0.602944, acc.: 57.03%] [G loss: 0.837500]\n",
      "58 [D loss: 0.576640, acc.: 67.58%] [G loss: 0.874876]\n",
      "59 [D loss: 0.572814, acc.: 70.70%] [G loss: 0.911419]\n",
      "60 [D loss: 0.556515, acc.: 74.61%] [G loss: 0.954834]\n",
      "61 [D loss: 0.541272, acc.: 76.17%] [G loss: 0.998805]\n",
      "62 [D loss: 0.539151, acc.: 78.12%] [G loss: 0.999180]\n",
      "63 [D loss: 0.551818, acc.: 73.83%] [G loss: 0.953833]\n",
      "64 [D loss: 0.570759, acc.: 70.31%] [G loss: 0.896304]\n",
      "65 [D loss: 0.575616, acc.: 67.97%] [G loss: 0.865668]\n",
      "66 [D loss: 0.642399, acc.: 58.98%] [G loss: 0.776629]\n",
      "67 [D loss: 0.754757, acc.: 55.08%] [G loss: 0.646571]\n",
      "68 [D loss: 0.925932, acc.: 50.78%] [G loss: 0.592402]\n",
      "69 [D loss: 0.881554, acc.: 44.53%] [G loss: 0.532554]\n",
      "70 [D loss: 0.928008, acc.: 44.92%] [G loss: 0.555015]\n",
      "71 [D loss: 0.788476, acc.: 46.88%] [G loss: 0.737681]\n",
      "72 [D loss: 0.600719, acc.: 57.42%] [G loss: 1.158351]\n",
      "73 [D loss: 0.459022, acc.: 83.59%] [G loss: 1.511825]\n",
      "74 [D loss: 0.425885, acc.: 83.59%] [G loss: 1.590053]\n",
      "75 [D loss: 0.419933, acc.: 83.59%] [G loss: 1.503267]\n",
      "76 [D loss: 0.450799, acc.: 83.20%] [G loss: 1.303435]\n",
      "77 [D loss: 0.454943, acc.: 84.38%] [G loss: 1.100857]\n",
      "78 [D loss: 0.493711, acc.: 79.30%] [G loss: 0.958672]\n",
      "79 [D loss: 0.572137, acc.: 67.58%] [G loss: 0.869033]\n",
      "80 [D loss: 0.609467, acc.: 62.89%] [G loss: 0.707473]\n",
      "81 [D loss: 0.692603, acc.: 55.86%] [G loss: 0.675740]\n",
      "82 [D loss: 0.806169, acc.: 48.05%] [G loss: 0.560976]\n",
      "83 [D loss: 0.862008, acc.: 43.36%] [G loss: 0.579530]\n",
      "84 [D loss: 0.856820, acc.: 35.55%] [G loss: 0.681134]\n",
      "85 [D loss: 0.768235, acc.: 34.38%] [G loss: 0.898697]\n",
      "86 [D loss: 0.725665, acc.: 48.44%] [G loss: 1.153383]\n",
      "87 [D loss: 0.733781, acc.: 51.56%] [G loss: 1.158112]\n",
      "88 [D loss: 0.744282, acc.: 49.61%] [G loss: 1.058665]\n",
      "89 [D loss: 0.744555, acc.: 49.61%] [G loss: 1.043369]\n",
      "90 [D loss: 0.704291, acc.: 52.73%] [G loss: 1.060569]\n",
      "91 [D loss: 0.669526, acc.: 57.03%] [G loss: 1.099060]\n",
      "92 [D loss: 0.641167, acc.: 59.77%] [G loss: 1.072508]\n",
      "93 [D loss: 0.644340, acc.: 57.81%] [G loss: 1.051625]\n",
      "94 [D loss: 0.634615, acc.: 66.02%] [G loss: 1.024424]\n",
      "95 [D loss: 0.616475, acc.: 70.70%] [G loss: 1.035921]\n",
      "96 [D loss: 0.616139, acc.: 73.44%] [G loss: 1.037287]\n",
      "97 [D loss: 0.618841, acc.: 72.27%] [G loss: 0.987368]\n",
      "98 [D loss: 0.631232, acc.: 70.31%] [G loss: 0.935350]\n",
      "99 [D loss: 0.656396, acc.: 65.23%] [G loss: 0.895489]\n",
      "100 [D loss: 0.640931, acc.: 66.80%] [G loss: 0.917672]\n",
      "generated_data\n",
      "101 [D loss: 0.617944, acc.: 73.83%] [G loss: 0.983798]\n",
      "102 [D loss: 0.580359, acc.: 79.30%] [G loss: 1.031993]\n",
      "103 [D loss: 0.568017, acc.: 78.12%] [G loss: 1.044128]\n",
      "104 [D loss: 0.566529, acc.: 80.08%] [G loss: 1.009292]\n",
      "105 [D loss: 0.571192, acc.: 80.47%] [G loss: 0.943066]\n",
      "106 [D loss: 0.582676, acc.: 73.05%] [G loss: 0.895758]\n",
      "107 [D loss: 0.588502, acc.: 71.09%] [G loss: 0.882641]\n",
      "108 [D loss: 0.597323, acc.: 64.45%] [G loss: 0.815921]\n",
      "109 [D loss: 0.598496, acc.: 66.02%] [G loss: 0.877970]\n",
      "110 [D loss: 0.553299, acc.: 74.22%] [G loss: 0.996077]\n",
      "111 [D loss: 0.519119, acc.: 83.98%] [G loss: 1.077177]\n",
      "112 [D loss: 0.500551, acc.: 87.89%] [G loss: 1.085373]\n",
      "113 [D loss: 0.510479, acc.: 83.98%] [G loss: 1.048041]\n",
      "114 [D loss: 0.539713, acc.: 80.86%] [G loss: 0.999100]\n",
      "115 [D loss: 0.537682, acc.: 82.81%] [G loss: 0.921088]\n",
      "116 [D loss: 0.585611, acc.: 75.39%] [G loss: 0.877157]\n",
      "117 [D loss: 0.622448, acc.: 71.09%] [G loss: 0.865922]\n",
      "118 [D loss: 0.685356, acc.: 64.06%] [G loss: 0.909187]\n",
      "119 [D loss: 0.678217, acc.: 61.72%] [G loss: 0.940443]\n",
      "120 [D loss: 0.674314, acc.: 60.16%] [G loss: 0.956500]\n",
      "121 [D loss: 0.720593, acc.: 49.22%] [G loss: 0.967146]\n",
      "122 [D loss: 0.755023, acc.: 42.19%] [G loss: 0.995508]\n",
      "123 [D loss: 0.744106, acc.: 44.92%] [G loss: 1.011137]\n",
      "124 [D loss: 0.726071, acc.: 53.91%] [G loss: 1.117442]\n",
      "125 [D loss: 0.654322, acc.: 63.67%] [G loss: 1.282755]\n",
      "126 [D loss: 0.608693, acc.: 64.06%] [G loss: 1.379513]\n",
      "127 [D loss: 0.589786, acc.: 63.67%] [G loss: 1.309765]\n",
      "128 [D loss: 0.585726, acc.: 64.84%] [G loss: 1.275644]\n",
      "129 [D loss: 0.619308, acc.: 61.72%] [G loss: 1.135179]\n",
      "130 [D loss: 0.673267, acc.: 53.91%] [G loss: 0.969492]\n",
      "131 [D loss: 0.719451, acc.: 50.78%] [G loss: 0.930394]\n",
      "132 [D loss: 0.752093, acc.: 50.78%] [G loss: 0.928952]\n",
      "133 [D loss: 0.746987, acc.: 46.48%] [G loss: 0.930384]\n",
      "134 [D loss: 0.779252, acc.: 40.62%] [G loss: 0.999410]\n",
      "135 [D loss: 0.784804, acc.: 38.28%] [G loss: 0.957496]\n",
      "136 [D loss: 0.835909, acc.: 30.08%] [G loss: 0.902571]\n",
      "137 [D loss: 0.832502, acc.: 34.38%] [G loss: 0.949397]\n",
      "138 [D loss: 0.792201, acc.: 42.19%] [G loss: 1.065434]\n",
      "139 [D loss: 0.717544, acc.: 51.17%] [G loss: 1.265077]\n",
      "140 [D loss: 0.666340, acc.: 56.25%] [G loss: 1.393278]\n",
      "141 [D loss: 0.642127, acc.: 58.20%] [G loss: 1.311172]\n",
      "142 [D loss: 0.656517, acc.: 58.20%] [G loss: 1.126965]\n",
      "143 [D loss: 0.658939, acc.: 59.38%] [G loss: 1.030572]\n",
      "144 [D loss: 0.669681, acc.: 62.50%] [G loss: 0.931738]\n",
      "145 [D loss: 0.683306, acc.: 59.38%] [G loss: 0.866974]\n",
      "146 [D loss: 0.695375, acc.: 54.30%] [G loss: 0.815626]\n",
      "147 [D loss: 0.704041, acc.: 48.05%] [G loss: 0.760793]\n",
      "148 [D loss: 0.707580, acc.: 42.19%] [G loss: 0.731946]\n",
      "149 [D loss: 0.710700, acc.: 35.94%] [G loss: 0.732682]\n",
      "150 [D loss: 0.709266, acc.: 30.47%] [G loss: 0.753883]\n",
      "151 [D loss: 0.690851, acc.: 41.80%] [G loss: 0.796167]\n",
      "152 [D loss: 0.679380, acc.: 54.69%] [G loss: 0.834982]\n",
      "153 [D loss: 0.644747, acc.: 66.80%] [G loss: 0.885707]\n",
      "154 [D loss: 0.635532, acc.: 65.23%] [G loss: 0.926885]\n",
      "155 [D loss: 0.625184, acc.: 62.89%] [G loss: 0.932837]\n",
      "156 [D loss: 0.635642, acc.: 63.67%] [G loss: 0.932371]\n",
      "157 [D loss: 0.652119, acc.: 57.42%] [G loss: 0.880999]\n",
      "158 [D loss: 0.675665, acc.: 53.91%] [G loss: 0.894366]\n",
      "159 [D loss: 0.665596, acc.: 56.64%] [G loss: 0.867579]\n",
      "160 [D loss: 0.681412, acc.: 55.08%] [G loss: 0.837845]\n",
      "161 [D loss: 0.714987, acc.: 50.78%] [G loss: 0.832952]\n",
      "162 [D loss: 0.710486, acc.: 51.95%] [G loss: 0.852980]\n",
      "163 [D loss: 0.702892, acc.: 57.42%] [G loss: 0.850351]\n",
      "164 [D loss: 0.705377, acc.: 55.47%] [G loss: 0.842628]\n",
      "165 [D loss: 0.696912, acc.: 61.72%] [G loss: 0.837230]\n",
      "166 [D loss: 0.690458, acc.: 60.55%] [G loss: 0.839431]\n",
      "167 [D loss: 0.686818, acc.: 58.59%] [G loss: 0.867084]\n",
      "168 [D loss: 0.664574, acc.: 61.72%] [G loss: 0.875290]\n",
      "169 [D loss: 0.650277, acc.: 64.45%] [G loss: 0.899447]\n",
      "170 [D loss: 0.651870, acc.: 63.28%] [G loss: 0.904067]\n",
      "171 [D loss: 0.644217, acc.: 64.45%] [G loss: 0.863415]\n",
      "172 [D loss: 0.648969, acc.: 61.72%] [G loss: 0.835039]\n",
      "173 [D loss: 0.645059, acc.: 62.89%] [G loss: 0.804501]\n",
      "174 [D loss: 0.639647, acc.: 62.89%] [G loss: 0.802196]\n",
      "175 [D loss: 0.641911, acc.: 64.84%] [G loss: 0.785761]\n",
      "176 [D loss: 0.637642, acc.: 69.92%] [G loss: 0.783642]\n",
      "177 [D loss: 0.633941, acc.: 76.56%] [G loss: 0.761242]\n",
      "178 [D loss: 0.646392, acc.: 67.19%] [G loss: 0.747572]\n",
      "179 [D loss: 0.659141, acc.: 60.94%] [G loss: 0.751026]\n",
      "180 [D loss: 0.667826, acc.: 50.00%] [G loss: 0.752598]\n",
      "181 [D loss: 0.668367, acc.: 53.12%] [G loss: 0.798719]\n",
      "182 [D loss: 0.656822, acc.: 62.50%] [G loss: 0.847744]\n",
      "183 [D loss: 0.670795, acc.: 54.30%] [G loss: 0.849097]\n",
      "184 [D loss: 0.661134, acc.: 54.30%] [G loss: 0.877458]\n",
      "185 [D loss: 0.661604, acc.: 58.20%] [G loss: 0.896638]\n",
      "186 [D loss: 0.659256, acc.: 56.64%] [G loss: 0.904762]\n",
      "187 [D loss: 0.653288, acc.: 61.72%] [G loss: 0.933375]\n",
      "188 [D loss: 0.645565, acc.: 64.84%] [G loss: 0.935471]\n",
      "189 [D loss: 0.639799, acc.: 65.23%] [G loss: 0.935083]\n",
      "190 [D loss: 0.630419, acc.: 66.80%] [G loss: 0.953407]\n",
      "191 [D loss: 0.623516, acc.: 64.45%] [G loss: 0.943935]\n",
      "192 [D loss: 0.622479, acc.: 66.41%] [G loss: 0.940003]\n",
      "193 [D loss: 0.637246, acc.: 65.23%] [G loss: 0.916584]\n",
      "194 [D loss: 0.647446, acc.: 64.45%] [G loss: 0.919411]\n",
      "195 [D loss: 0.623041, acc.: 70.31%] [G loss: 0.921477]\n",
      "196 [D loss: 0.620168, acc.: 70.31%] [G loss: 0.952651]\n",
      "197 [D loss: 0.606043, acc.: 71.48%] [G loss: 0.929645]\n",
      "198 [D loss: 0.606632, acc.: 68.36%] [G loss: 0.935538]\n",
      "199 [D loss: 0.600935, acc.: 70.70%] [G loss: 0.946888]\n",
      "200 [D loss: 0.607489, acc.: 66.41%] [G loss: 0.920638]\n",
      "generated_data\n"
     ]
    }
   ],
   "source": [
    "#Training the GAN model chosen: Vanilla GAN, CGAN, DCGAN, etc.\n",
    "synthesizer = model(gan_args)\n",
    "synthesizer.train(train_sample, train_args)"
   ]
  },
  {
   "cell_type": "code",
   "execution_count": 7,
   "metadata": {},
   "outputs": [
    {
     "name": "stdout",
     "output_type": "stream",
     "text": [
      "Model: \"model\"\n",
      "_________________________________________________________________\n",
      "Layer (type)                 Output Shape              Param #   \n",
      "=================================================================\n",
      "input_1 (InputLayer)         [(128, 32)]               0         \n",
      "_________________________________________________________________\n",
      "dense (Dense)                multiple                  4224      \n",
      "_________________________________________________________________\n",
      "dense_1 (Dense)              multiple                  33024     \n",
      "_________________________________________________________________\n",
      "dense_2 (Dense)              multiple                  131584    \n",
      "_________________________________________________________________\n",
      "dense_3 (Dense)              multiple                  15390     \n",
      "=================================================================\n",
      "Total params: 184,222\n",
      "Trainable params: 184,222\n",
      "Non-trainable params: 0\n",
      "_________________________________________________________________\n"
     ]
    }
   ],
   "source": [
    "#Generator discription\n",
    "synthesizer.generator.summary()"
   ]
  },
  {
   "cell_type": "code",
   "execution_count": 8,
   "metadata": {
    "pycharm": {
     "name": "#%%\n"
    }
   },
   "outputs": [
    {
     "name": "stdout",
     "output_type": "stream",
     "text": [
      "Model: \"model_1\"\n",
      "_________________________________________________________________\n",
      "Layer (type)                 Output Shape              Param #   \n",
      "=================================================================\n",
      "input_2 (InputLayer)         [(128, 30)]               0         \n",
      "_________________________________________________________________\n",
      "dense_4 (Dense)              multiple                  15872     \n",
      "_________________________________________________________________\n",
      "dropout (Dropout)            multiple                  0         \n",
      "_________________________________________________________________\n",
      "dense_5 (Dense)              multiple                  131328    \n",
      "_________________________________________________________________\n",
      "dropout_1 (Dropout)          multiple                  0         \n",
      "_________________________________________________________________\n",
      "dense_6 (Dense)              multiple                  32896     \n",
      "_________________________________________________________________\n",
      "dense_7 (Dense)              multiple                  129       \n",
      "=================================================================\n",
      "WARNING:tensorflow:Discrepancy between trainable weights and collected trainable weights, did you set `model.trainable` without calling `model.compile` after ?\n",
      "Total params: 360,450\n",
      "Trainable params: 180,225\n",
      "Non-trainable params: 180,225\n",
      "_________________________________________________________________\n"
     ]
    }
   ],
   "source": [
    "#Discriminator description\n",
    "synthesizer.discriminator.summary()"
   ]
  },
  {
   "cell_type": "code",
   "execution_count": 10,
   "metadata": {
    "pycharm": {
     "name": "#%%\n"
    }
   },
   "outputs": [
    {
     "ename": "AssertionError",
     "evalue": "Please provide a valid path. Path must be a directory.",
     "output_type": "error",
     "traceback": [
      "\u001b[0;31m\u001b[0m",
      "\u001b[0;31mAssertionError\u001b[0mTraceback (most recent call last)",
      "\u001b[0;32m<ipython-input-10-b5e799d6bacd>\u001b[0m in \u001b[0;36m<module>\u001b[0;34m()\u001b[0m\n\u001b[1;32m      1\u001b[0m \u001b[0;31m#You can easily save the trained generator and loaded it aftwerwards\u001b[0m\u001b[0;34m\u001b[0m\u001b[0;34m\u001b[0m\u001b[0m\n\u001b[0;32m----> 2\u001b[0;31m \u001b[0msynthesizer\u001b[0m\u001b[0;34m.\u001b[0m\u001b[0msave\u001b[0m\u001b[0;34m(\u001b[0m\u001b[0;34m'./saved/gan'\u001b[0m\u001b[0;34m,\u001b[0m \u001b[0;34m'generator_fraud'\u001b[0m\u001b[0;34m)\u001b[0m\u001b[0;34m\u001b[0m\u001b[0m\n\u001b[0m",
      "\u001b[0;32m/home/fabiana/PycharmProjects/YData/gan-playground/models/gan/model.pyc\u001b[0m in \u001b[0;36msave\u001b[0;34m(self, path, name)\u001b[0m\n\u001b[1;32m    107\u001b[0m     \u001b[0;32mdef\u001b[0m \u001b[0msave\u001b[0m\u001b[0;34m(\u001b[0m\u001b[0mself\u001b[0m\u001b[0;34m,\u001b[0m \u001b[0mpath\u001b[0m\u001b[0;34m,\u001b[0m \u001b[0mname\u001b[0m\u001b[0;34m)\u001b[0m\u001b[0;34m:\u001b[0m\u001b[0;34m\u001b[0m\u001b[0m\n\u001b[1;32m    108\u001b[0m         \u001b[0;32massert\u001b[0m \u001b[0mos\u001b[0m\u001b[0;34m.\u001b[0m\u001b[0mpath\u001b[0m\u001b[0;34m.\u001b[0m\u001b[0misdir\u001b[0m\u001b[0;34m(\u001b[0m\u001b[0mpath\u001b[0m\u001b[0;34m)\u001b[0m \u001b[0;34m==\u001b[0m \u001b[0mTrue\u001b[0m\u001b[0;34m,\u001b[0m\u001b[0;31m \u001b[0m\u001b[0;31m\\\u001b[0m\u001b[0;34m\u001b[0m\u001b[0m\n\u001b[0;32m--> 109\u001b[0;31m             \u001b[0;34m\"Please provide a valid path. Path must be a directory.\"\u001b[0m\u001b[0;34m\u001b[0m\u001b[0m\n\u001b[0m\u001b[1;32m    110\u001b[0m         \u001b[0mmodel_path\u001b[0m \u001b[0;34m=\u001b[0m \u001b[0mos\u001b[0m\u001b[0;34m.\u001b[0m\u001b[0mpath\u001b[0m\u001b[0;34m.\u001b[0m\u001b[0mjoin\u001b[0m\u001b[0;34m(\u001b[0m\u001b[0mpath\u001b[0m\u001b[0;34m,\u001b[0m \u001b[0mname\u001b[0m\u001b[0;34m)\u001b[0m\u001b[0;34m\u001b[0m\u001b[0m\n\u001b[1;32m    111\u001b[0m         \u001b[0mself\u001b[0m\u001b[0;34m.\u001b[0m\u001b[0mgenerator\u001b[0m\u001b[0;34m.\u001b[0m\u001b[0msave_weights\u001b[0m\u001b[0;34m(\u001b[0m\u001b[0mmodel_path\u001b[0m\u001b[0;34m)\u001b[0m  \u001b[0;31m# Load the generator\u001b[0m\u001b[0;34m\u001b[0m\u001b[0m\n",
      "\u001b[0;31mAssertionError\u001b[0m: Please provide a valid path. Path must be a directory."
     ]
    }
   ],
   "source": [
    "#You can easily save the trained generator and loaded it aftwerwards\n",
    "synthesizer.save('./saved/gan', 'generator_fraud')"
   ]
  },
  {
   "cell_type": "code",
   "execution_count": 9,
   "metadata": {},
   "outputs": [],
   "source": [
    "models = {'GAN': ['GAN', False, synthesizer.generator]}"
   ]
  },
  {
   "cell_type": "code",
   "execution_count": 11,
   "metadata": {
    "pycharm": {
     "name": "#%%\n"
    }
   },
   "outputs": [
    {
     "data": {
      "image/png": "[encoded data removed]",
      "text/plain": [
       "<Figure size 1008x648 with 6 Axes>"
      ]
     },
     "metadata": {
      "needs_background": "light"
     },
     "output_type": "display_data"
    }
   ],
   "source": [
    "# Setup parameters visualization parameters\n",
    "seed = 17\n",
    "test_size = 492 # number of fraud cases\n",
    "noise_dim = 32\n",
    "\n",
    "np.random.seed(seed)\n",
    "z = np.random.normal(size=(test_size, noise_dim))\n",
    "real = synthesizer.get_data_batch(train=train_sample, batch_size=test_size, seed=seed)\n",
    "real_samples = pd.DataFrame(real, columns=data_cols+label_cols)\n",
    "labels = fraud_w_classes['Class']\n",
    "\n",
    "model_names = ['GAN']\n",
    "colors = ['deepskyblue','blue']\n",
    "markers = ['o','^']\n",
    "class_labels = ['Class 1','Class 2']\n",
    "\n",
    "col1, col2 = 'V17', 'V10'\n",
    "\n",
    "base_dir = 'cache/'\n",
    "\n",
    "#Actual fraud data visualization\n",
    "model_steps = [ 0, 200, 300]\n",
    "rows = len(model_steps)\n",
    "columns = 5\n",
    "\n",
    "axarr = [[]]*len(model_steps)\n",
    "\n",
    "fig = plt.figure(figsize=(14,rows*3))\n",
    "\n",
    "for model_step_ix, model_step in enumerate(model_steps):        \n",
    "    axarr[model_step_ix] = plt.subplot(rows, columns, model_step_ix*columns + 1)\n",
    "    \n",
    "    for group, color, marker, label in zip(real_samples.groupby('Class_1'), colors, markers, class_labels ):\n",
    "        plt.scatter( group[1][[col1]], group[1][[col2]], \n",
    "                         label=label, marker=marker, edgecolors=color, facecolors='none' )\n",
    "    \n",
    "    plt.title('Actual Fraud Data')\n",
    "    plt.ylabel(col2) # Only add y label to left plot\n",
    "    plt.xlabel(col1)\n",
    "    xlims, ylims = axarr[model_step_ix].get_xlim(), axarr[model_step_ix].get_ylim()\n",
    "    \n",
    "    if model_step_ix == 0: \n",
    "        legend = plt.legend()\n",
    "        legend.get_frame().set_facecolor('white')\n",
    "    \n",
    "    for i, model_name in enumerate( model_names[:] ):\n",
    "\n",
    "        [model_name, with_class, generator_model] = models[model_name]\n",
    "\n",
    "        generator_model.load_weights( base_dir + '_generator_model_weights_step_'+str(model_step)+'.h5')\n",
    "\n",
    "        ax = plt.subplot(rows, columns, model_step_ix*columns + 1 + (i+1) )\n",
    "\n",
    "        if with_class:\n",
    "            g_z = generator_model.predict([z, labels])\n",
    "            gen_samples = pd.DataFrame(g_z, columns=data_cols+label_cols)\n",
    "            for group, color, marker, label in zip( gen_samples.groupby('Class_1'), colors, markers, class_labels ):\n",
    "                plt.scatter( group[1][[col1]], group[1][[col2]], \n",
    "                                 label=label, marker=marker, edgecolors=color, facecolors='none' )\n",
    "        else:\n",
    "            g_z = generator_model.predict(z)\n",
    "            gen_samples = pd.DataFrame(g_z, columns=data_cols+['label'])\n",
    "            gen_samples.to_csv('Generated_sample.csv')\n",
    "            plt.scatter( gen_samples[[col1]], gen_samples[[col2]], \n",
    "                             label=class_labels[0], marker=markers[0], edgecolors=colors[0], facecolors='none' )\n",
    "        plt.title(model_name)   \n",
    "        plt.xlabel(data_cols[0])\n",
    "        ax.set_xlim(xlims), ax.set_ylim(ylims)\n",
    "\n",
    "plt.suptitle('Comparison of GAN outputs', size=16, fontweight='bold')\n",
    "plt.tight_layout(rect=[0.075,0,1,0.95])\n",
    "\n",
    "# Adding text labels for traning steps\n",
    "vpositions = np.array([ i._position.bounds[1] for i in axarr ])\n",
    "vpositions += ((vpositions[0] - vpositions[1]) * 0.35 )\n",
    "for model_step_ix, model_step in enumerate( model_steps ):\n",
    "    fig.text( 0.05, vpositions[model_step_ix], 'training\\nstep\\n'+str(model_step), ha='center', va='center', size=12)\n",
    "\n",
    "plt.savefig('Comparison_of_GAN_outputs.png')\n"
   ]
  }
 ],
 "metadata": {
  "kernelspec": {
   "display_name": "Python 3",
   "language": "python",
   "name": "python3"
  },
  "language_info": {
   "codemirror_mode": {
    "name": "ipython",
    "version": 3
   },
   "file_extension": ".py",
   "mimetype": "text/x-python",
   "name": "python",
   "nbconvert_exporter": "python",
   "pygments_lexer": "ipython3",
   "version": "3.7.3"
  }
 },
 "nbformat": 4,
 "nbformat_minor": 1
}
